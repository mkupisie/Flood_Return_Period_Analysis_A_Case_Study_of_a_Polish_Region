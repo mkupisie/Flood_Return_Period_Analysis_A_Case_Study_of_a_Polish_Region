{
 "cells": [
  {
   "cell_type": "code",
   "execution_count": 1,
   "id": "b3c0c058-eca8-4232-866a-03c5a71f1223",
   "metadata": {},
   "outputs": [],
   "source": [
    "import pandas as pd\n",
    "import geopandas as gpd\n",
    "import matplotlib.pyplot as plt\n",
    "import xml.etree.ElementTree as ET"
   ]
  },
  {
   "cell_type": "code",
   "execution_count": 2,
   "id": "4f7de50d-db8d-443f-a69f-0878836f11db",
   "metadata": {},
   "outputs": [],
   "source": [
    "# Defining the path for xml file with address points for lubuskie voivodeship in Poland\n",
    "lubuskie_xml_path = \"C:/flood_analysis/PRG-punkty_adresowe/17.01.2024_08_30_23__08_lubuskie.xml\""
   ]
  },
  {
   "cell_type": "code",
   "execution_count": 3,
   "id": "ef047a08-ee55-442d-968d-ae932caf8dd5",
   "metadata": {},
   "outputs": [],
   "source": [
    "# Parsing xml file using the ElementTree module\n",
    "tree = ET.parse(lubuskie_xml_path)\n",
    "\n",
    "# Getting the root element of the XML tree\n",
    "root = tree.getroot()"
   ]
  },
  {
   "cell_type": "code",
   "execution_count": 4,
   "id": "f644f5ef-7227-4451-b293-60c6de2de0a1",
   "metadata": {},
   "outputs": [
    {
     "data": {
      "text/plain": [
       "{'{urn:gugik:specyfikacje:gmlas:panstwowyRejestrGranicAdresy:1.0}PRG_JednostkaAdministracyjnaNazwa',\n",
       " '{urn:gugik:specyfikacje:gmlas:panstwowyRejestrGranicAdresy:1.0}PRG_MiejscowoscNazwa',\n",
       " '{urn:gugik:specyfikacje:gmlas:panstwowyRejestrGranicAdresy:1.0}PRG_PunktAdresowy',\n",
       " '{urn:gugik:specyfikacje:gmlas:panstwowyRejestrGranicAdresy:1.0}PRG_UlicaNazwa'}"
      ]
     },
     "execution_count": 4,
     "metadata": {},
     "output_type": "execute_result"
    }
   ],
   "source": [
    "# Checking all unique first-level child elements that are a part of featureMembers\n",
    "\n",
    "feature_unique_elements = set()\n",
    "\n",
    "for feature_members_element in root.findall(\".//gml:featureMembers\", namespaces={'gml': 'http://www.opengis.net/gml/3.2'}):\n",
    "    # Iterating through the first-level child elements\n",
    "    for child_element in feature_members_element:\n",
    "        feature_unique_elements.add(child_element.tag)\n",
    "        \n",
    "feature_unique_elements"
   ]
  },
  {
   "cell_type": "code",
   "execution_count": 4,
   "id": "675d7a54-2ad8-4a75-9774-9b739fa66c15",
   "metadata": {},
   "outputs": [
    {
     "data": {
      "text/plain": [
       "{'{http://www.opengis.net/gml/3.2}identifier',\n",
       " '{urn:gugik:specyfikacje:gmlas:panstwowyRejestrGranicAdresy:1.0}cyklZycia',\n",
       " '{urn:gugik:specyfikacje:gmlas:panstwowyRejestrGranicAdresy:1.0}czescMiejscowosci',\n",
       " '{urn:gugik:specyfikacje:gmlas:panstwowyRejestrGranicAdresy:1.0}idIIP',\n",
       " '{urn:gugik:specyfikacje:gmlas:panstwowyRejestrGranicAdresy:1.0}jednostkaAdmnistracyjna',\n",
       " '{urn:gugik:specyfikacje:gmlas:panstwowyRejestrGranicAdresy:1.0}kodPocztowy',\n",
       " '{urn:gugik:specyfikacje:gmlas:panstwowyRejestrGranicAdresy:1.0}komponent',\n",
       " '{urn:gugik:specyfikacje:gmlas:panstwowyRejestrGranicAdresy:1.0}miejscowosc',\n",
       " '{urn:gugik:specyfikacje:gmlas:panstwowyRejestrGranicAdresy:1.0}numerPorzadkowy',\n",
       " '{urn:gugik:specyfikacje:gmlas:panstwowyRejestrGranicAdresy:1.0}obiektEMUiA',\n",
       " '{urn:gugik:specyfikacje:gmlas:panstwowyRejestrGranicAdresy:1.0}pozycja',\n",
       " '{urn:gugik:specyfikacje:gmlas:panstwowyRejestrGranicAdresy:1.0}status',\n",
       " '{urn:gugik:specyfikacje:gmlas:panstwowyRejestrGranicAdresy:1.0}ulica',\n",
       " '{urn:gugik:specyfikacje:gmlas:panstwowyRejestrGranicAdresy:1.0}waznyDo',\n",
       " '{urn:gugik:specyfikacje:gmlas:panstwowyRejestrGranicAdresy:1.0}waznyOd'}"
      ]
     },
     "execution_count": 4,
     "metadata": {},
     "output_type": "execute_result"
    }
   ],
   "source": [
    "# Filtering out only locations that were geocoded at the highest level of accuracy \n",
    "# locations with tag namespace \"PRG_PunktAdresowy\" (eng: address point)\n",
    "\n",
    "# Before filtering - identification of the element within geographical coordinates data are stored\n",
    "address_point_unique_elements = set()\n",
    "\n",
    "for address_point_members_element in root.findall(\".//prg-ad:PRG_PunktAdresowy\", namespaces={'prg-ad': 'urn:gugik:specyfikacje:gmlas:panstwowyRejestrGranicAdresy:1.0'}):\n",
    "    # Iterating through the first-level child elements\n",
    "    for child_element in address_point_members_element:\n",
    "        address_point_unique_elements.add(child_element.tag)\n",
    "        \n",
    "address_point_unique_elements\n",
    "\n",
    "# Geographical coordinates data are stored in this element within 'pozycja' tag (eng. position)\n"
   ]
  },
  {
   "cell_type": "code",
   "execution_count": 6,
   "id": "a83a0289-f2eb-4bc8-bbdf-d35f9781301e",
   "metadata": {},
   "outputs": [
    {
     "data": {
      "text/html": [
       "<div>\n",
       "<style scoped>\n",
       "    .dataframe tbody tr th:only-of-type {\n",
       "        vertical-align: middle;\n",
       "    }\n",
       "\n",
       "    .dataframe tbody tr th {\n",
       "        vertical-align: top;\n",
       "    }\n",
       "\n",
       "    .dataframe thead th {\n",
       "        text-align: right;\n",
       "    }\n",
       "</style>\n",
       "<table border=\"1\" class=\"dataframe\">\n",
       "  <thead>\n",
       "    <tr style=\"text-align: right;\">\n",
       "      <th></th>\n",
       "      <th>Place</th>\n",
       "      <th>Street</th>\n",
       "      <th>RecordNumber</th>\n",
       "      <th>PostalCode</th>\n",
       "      <th>AdministrativeUnit</th>\n",
       "      <th>Position</th>\n",
       "    </tr>\n",
       "  </thead>\n",
       "  <tbody>\n",
       "    <tr>\n",
       "      <th>0</th>\n",
       "      <td>Lubsko</td>\n",
       "      <td>Traugutta</td>\n",
       "      <td>2</td>\n",
       "      <td>68-300</td>\n",
       "      <td>[Polska, lubuskie, żarski, Lubsko]</td>\n",
       "      <td>443323.5373 222667.8081</td>\n",
       "    </tr>\n",
       "    <tr>\n",
       "      <th>1</th>\n",
       "      <td>Lubsko</td>\n",
       "      <td>Traugutta</td>\n",
       "      <td>3</td>\n",
       "      <td>68-300</td>\n",
       "      <td>[Polska, lubuskie, żarski, Lubsko]</td>\n",
       "      <td>443348.3894 222685.2913</td>\n",
       "    </tr>\n",
       "    <tr>\n",
       "      <th>2</th>\n",
       "      <td>Lubsko</td>\n",
       "      <td>Traugutta</td>\n",
       "      <td>1</td>\n",
       "      <td>68-300</td>\n",
       "      <td>[Polska, lubuskie, żarski, Lubsko]</td>\n",
       "      <td>443276.578500001 222610.4461</td>\n",
       "    </tr>\n",
       "    <tr>\n",
       "      <th>3</th>\n",
       "      <td>Lubsko</td>\n",
       "      <td>Parkowa</td>\n",
       "      <td>1</td>\n",
       "      <td>68-300</td>\n",
       "      <td>[Polska, lubuskie, żarski, Lubsko]</td>\n",
       "      <td>442911.345000001 222874.3781</td>\n",
       "    </tr>\n",
       "    <tr>\n",
       "      <th>4</th>\n",
       "      <td>Lubsko</td>\n",
       "      <td>Zapolskiej</td>\n",
       "      <td>4</td>\n",
       "      <td>68-300</td>\n",
       "      <td>[Polska, lubuskie, żarski, Lubsko]</td>\n",
       "      <td>442848.489800001 222843.0792</td>\n",
       "    </tr>\n",
       "  </tbody>\n",
       "</table>\n",
       "</div>"
      ],
      "text/plain": [
       "    Place      Street RecordNumber PostalCode   \n",
       "0  Lubsko   Traugutta            2     68-300  \\\n",
       "1  Lubsko   Traugutta            3     68-300   \n",
       "2  Lubsko   Traugutta            1     68-300   \n",
       "3  Lubsko     Parkowa            1     68-300   \n",
       "4  Lubsko  Zapolskiej            4     68-300   \n",
       "\n",
       "                   AdministrativeUnit                      Position  \n",
       "0  [Polska, lubuskie, żarski, Lubsko]       443323.5373 222667.8081  \n",
       "1  [Polska, lubuskie, żarski, Lubsko]       443348.3894 222685.2913  \n",
       "2  [Polska, lubuskie, żarski, Lubsko]  443276.578500001 222610.4461  \n",
       "3  [Polska, lubuskie, żarski, Lubsko]  442911.345000001 222874.3781  \n",
       "4  [Polska, lubuskie, żarski, Lubsko]  442848.489800001 222843.0792  "
      ]
     },
     "execution_count": 6,
     "metadata": {},
     "output_type": "execute_result"
    }
   ],
   "source": [
    "# Retrieving selected data for each address point (PRG_PunktAdresowy)\n",
    "\n",
    "Address_points_list = []\n",
    "\n",
    "# Iterating through each 'PRG_PunktAdresowy' element\n",
    "for prg_ad_element in root.findall(\".//prg-ad:PRG_PunktAdresowy\", namespaces={'prg-ad': 'urn:gugik:specyfikacje:gmlas:panstwowyRejestrGranicAdresy:1.0'}):\n",
    "    # Extracting selected information from each element\n",
    "    place = prg_ad_element.find(\".//prg-ad:miejscowosc\", namespaces={'prg-ad': 'urn:gugik:specyfikacje:gmlas:panstwowyRejestrGranicAdresy:1.0'}).text\n",
    "    street = prg_ad_element.find(\".//prg-ad:ulica\", namespaces={'prg-ad': 'urn:gugik:specyfikacje:gmlas:panstwowyRejestrGranicAdresy:1.0'}).text\n",
    "    record_number = prg_ad_element.find(\".//prg-ad:numerPorzadkowy\", namespaces={'prg-ad': 'urn:gugik:specyfikacje:gmlas:panstwowyRejestrGranicAdresy:1.0'}).text\n",
    "    postal_code = prg_ad_element.find(\".//prg-ad:kodPocztowy\", namespaces={'prg-ad': 'urn:gugik:specyfikacje:gmlas:panstwowyRejestrGranicAdresy:1.0'}).text\n",
    "    position = prg_ad_element.find(\".//gml:pos\", namespaces={'gml': 'http://www.opengis.net/gml/3.2'}).text\n",
    "    #Iterating through each 'JednostkaAdministracyjna' element\n",
    "    adm_unit_elements = prg_ad_element.findall(\".//prg-ad:jednostkaAdmnistracyjna\", namespaces={'prg-ad': 'urn:gugik:specyfikacje:gmlas:panstwowyRejestrGranicAdresy:1.0'})\n",
    "    adm_unit_list = [element.text if element is not None else None for element in adm_unit_elements]\n",
    "    \n",
    "    # Appending extracted data to the list\n",
    "    Address_points_list.append({\n",
    "        'Place': place,\n",
    "        'Street': street,\n",
    "        'RecordNumber': record_number,\n",
    "        'PostalCode': postal_code,\n",
    "        'AdministrativeUnit': adm_unit_list,\n",
    "        'Position': position\n",
    "    })\n",
    "\n",
    "# Create a DataFrame from the list\n",
    "Address_Points_df = pd.DataFrame(Address_points_list)\n",
    "\n",
    "# Display the DataFrame\n",
    "Address_Points_df.head()"
   ]
  },
  {
   "cell_type": "code",
   "execution_count": 7,
   "id": "a1aa21bc-bc7a-4f74-9db6-5befdc4c5e12",
   "metadata": {},
   "outputs": [
    {
     "data": {
      "text/plain": [
       "0"
      ]
     },
     "execution_count": 7,
     "metadata": {},
     "output_type": "execute_result"
    }
   ],
   "source": [
    "# Checking if there are missing data in the Position column with geographical coordinates\n",
    "Address_Points_df['Position'].isnull().sum()"
   ]
  },
  {
   "cell_type": "code",
   "execution_count": 9,
   "id": "e9acf1d9-af42-4700-8631-e7b6186fe622",
   "metadata": {},
   "outputs": [
    {
     "name": "stdout",
     "output_type": "stream",
     "text": [
      "Geographical coordinates can be extracted for 193533 locations.\n"
     ]
    }
   ],
   "source": [
    "# Calculating the sum of address points with coords \n",
    "# to check for how many locations the geographical coordinates can be extracted\n",
    "sum_address_points = len(Address_Points_df)\n",
    "print(\"Geographical coordinates can be extracted for {} locations.\".format(sum_address_points))"
   ]
  },
  {
   "cell_type": "code",
   "execution_count": 10,
   "id": "b693c6cc-e037-4976-b78d-5491479632ca",
   "metadata": {},
   "outputs": [
    {
     "data": {
      "text/html": [
       "<div>\n",
       "<style scoped>\n",
       "    .dataframe tbody tr th:only-of-type {\n",
       "        vertical-align: middle;\n",
       "    }\n",
       "\n",
       "    .dataframe tbody tr th {\n",
       "        vertical-align: top;\n",
       "    }\n",
       "\n",
       "    .dataframe thead th {\n",
       "        text-align: right;\n",
       "    }\n",
       "</style>\n",
       "<table border=\"1\" class=\"dataframe\">\n",
       "  <thead>\n",
       "    <tr style=\"text-align: right;\">\n",
       "      <th></th>\n",
       "      <th>Place</th>\n",
       "      <th>Street</th>\n",
       "      <th>RecordNumber</th>\n",
       "      <th>PostalCode</th>\n",
       "      <th>AdministrativeUnit</th>\n",
       "      <th>Position</th>\n",
       "      <th>Y</th>\n",
       "      <th>X</th>\n",
       "    </tr>\n",
       "  </thead>\n",
       "  <tbody>\n",
       "    <tr>\n",
       "      <th>0</th>\n",
       "      <td>Lubsko</td>\n",
       "      <td>Traugutta</td>\n",
       "      <td>2</td>\n",
       "      <td>68-300</td>\n",
       "      <td>[Polska, lubuskie, żarski, Lubsko]</td>\n",
       "      <td>443323.5373 222667.8081</td>\n",
       "      <td>443323.5373</td>\n",
       "      <td>222667.8081</td>\n",
       "    </tr>\n",
       "    <tr>\n",
       "      <th>1</th>\n",
       "      <td>Lubsko</td>\n",
       "      <td>Traugutta</td>\n",
       "      <td>3</td>\n",
       "      <td>68-300</td>\n",
       "      <td>[Polska, lubuskie, żarski, Lubsko]</td>\n",
       "      <td>443348.3894 222685.2913</td>\n",
       "      <td>443348.3894</td>\n",
       "      <td>222685.2913</td>\n",
       "    </tr>\n",
       "    <tr>\n",
       "      <th>2</th>\n",
       "      <td>Lubsko</td>\n",
       "      <td>Traugutta</td>\n",
       "      <td>1</td>\n",
       "      <td>68-300</td>\n",
       "      <td>[Polska, lubuskie, żarski, Lubsko]</td>\n",
       "      <td>443276.578500001 222610.4461</td>\n",
       "      <td>443276.5785</td>\n",
       "      <td>222610.4461</td>\n",
       "    </tr>\n",
       "    <tr>\n",
       "      <th>3</th>\n",
       "      <td>Lubsko</td>\n",
       "      <td>Parkowa</td>\n",
       "      <td>1</td>\n",
       "      <td>68-300</td>\n",
       "      <td>[Polska, lubuskie, żarski, Lubsko]</td>\n",
       "      <td>442911.345000001 222874.3781</td>\n",
       "      <td>442911.3450</td>\n",
       "      <td>222874.3781</td>\n",
       "    </tr>\n",
       "    <tr>\n",
       "      <th>4</th>\n",
       "      <td>Lubsko</td>\n",
       "      <td>Zapolskiej</td>\n",
       "      <td>4</td>\n",
       "      <td>68-300</td>\n",
       "      <td>[Polska, lubuskie, żarski, Lubsko]</td>\n",
       "      <td>442848.489800001 222843.0792</td>\n",
       "      <td>442848.4898</td>\n",
       "      <td>222843.0792</td>\n",
       "    </tr>\n",
       "  </tbody>\n",
       "</table>\n",
       "</div>"
      ],
      "text/plain": [
       "    Place      Street RecordNumber PostalCode   \n",
       "0  Lubsko   Traugutta            2     68-300  \\\n",
       "1  Lubsko   Traugutta            3     68-300   \n",
       "2  Lubsko   Traugutta            1     68-300   \n",
       "3  Lubsko     Parkowa            1     68-300   \n",
       "4  Lubsko  Zapolskiej            4     68-300   \n",
       "\n",
       "                   AdministrativeUnit                      Position   \n",
       "0  [Polska, lubuskie, żarski, Lubsko]       443323.5373 222667.8081  \\\n",
       "1  [Polska, lubuskie, żarski, Lubsko]       443348.3894 222685.2913   \n",
       "2  [Polska, lubuskie, żarski, Lubsko]  443276.578500001 222610.4461   \n",
       "3  [Polska, lubuskie, żarski, Lubsko]  442911.345000001 222874.3781   \n",
       "4  [Polska, lubuskie, żarski, Lubsko]  442848.489800001 222843.0792   \n",
       "\n",
       "             Y            X  \n",
       "0  443323.5373  222667.8081  \n",
       "1  443348.3894  222685.2913  \n",
       "2  443276.5785  222610.4461  \n",
       "3  442911.3450  222874.3781  \n",
       "4  442848.4898  222843.0792  "
      ]
     },
     "execution_count": 10,
     "metadata": {},
     "output_type": "execute_result"
    }
   ],
   "source": [
    "# Extracting Y and X from the 'Position' column to use them when creating GeoDataFrame\n",
    "Address_Points_df[['Y','X']] = Address_Points_df['Position'].str.split(expand=True).astype(float)\n",
    "Address_Points_df.head()"
   ]
  },
  {
   "cell_type": "code",
   "execution_count": 11,
   "id": "952f4b32-c33d-4607-9040-cc9f46b97aac",
   "metadata": {},
   "outputs": [
    {
     "data": {
      "text/plain": [
       "<Axes: >"
      ]
     },
     "execution_count": 11,
     "metadata": {},
     "output_type": "execute_result"
    },
    {
     "data": {
      "image/png": "[encoded data removed]",
      "text/plain": [
       "<Figure size 640x480 with 1 Axes>"
      ]
     },
     "metadata": {},
     "output_type": "display_data"
    }
   ],
   "source": [
    "# Creating GeoDataFrame with address points\n",
    "Address_Points_gdf = gpd.GeoDataFrame(\n",
    "    Address_Points_df, geometry=gpd.points_from_xy(Address_Points_df.X, Address_Points_df.Y), crs='EPSG:2180')\n",
    "Address_Points_gdf.plot()"
   ]
  },
  {
   "cell_type": "code",
   "execution_count": 14,
   "id": "9f22df8c-2c72-4f2e-a4ac-97614a401001",
   "metadata": {},
   "outputs": [],
   "source": [
    "# Uploading second level admistrative boundaries (powiaty) shapefile\n",
    "boundaries = gpd.read_file(\"C:/flood_analysis/powiaty.zip\")"
   ]
  },
  {
   "cell_type": "code",
   "execution_count": 16,
   "id": "552a6f32-7ad7-4acf-b69e-f71eb706a7a3",
   "metadata": {},
   "outputs": [
    {
     "data": {
      "text/plain": [
       "True"
      ]
     },
     "execution_count": 16,
     "metadata": {},
     "output_type": "execute_result"
    }
   ],
   "source": [
    "# Checking if CRS of both GeoDataFrames matches\n",
    "boundaries.crs == Address_Points_gdf.crs"
   ]
  },
  {
   "cell_type": "code",
   "execution_count": 17,
   "id": "11523f6c-2c3e-47f4-b8f4-098a29d85901",
   "metadata": {},
   "outputs": [],
   "source": [
    "# Conducting spatial join to join corresponding administrative area (powiat) name for each adress point\n",
    "lubuskie_data = gpd.sjoin(Address_Points_gdf, boundaries, how='inner')"
   ]
  },
  {
   "cell_type": "code",
   "execution_count": 19,
   "id": "faab850f-2d06-4e17-8504-08589cd5cba6",
   "metadata": {},
   "outputs": [],
   "source": [
    "import rasterio\n",
    "\n",
    "# Uploading rasters with flood data\n",
    "rasters_path = 'C://flood_analysis/floodMap_RP{:03d}/floodmap_EFAS_RP{:03d}_C.tif'\n",
    "\n",
    "# Storing the uploaded rasters in a dictionary\n",
    "flood_maps = {}\n",
    "\n",
    "# Iterating over the return periods to upload the rasters and add them to the dictionary\n",
    "return_periods = [10,20,50,100,200,500]\n",
    "for period in return_periods:\n",
    "    file_path = rasters_path.format(period,period)\n",
    "    flood_maps[f'floodMap_{period}'] = rasterio.open(file_path) "
   ]
  },
  {
   "cell_type": "code",
   "execution_count": 20,
   "id": "e66035a0-cdde-4d33-9fe1-a8c2d2705108",
   "metadata": {},
   "outputs": [
    {
     "name": "stdout",
     "output_type": "stream",
     "text": [
      "PROJCS[\"ETRS89-extended / LAEA Europe\",GEOGCS[\"ETRS89\",DATUM[\"European_Terrestrial_Reference_System_1989\",SPHEROID[\"GRS 1980\",6378137,298.257222101004,AUTHORITY[\"EPSG\",\"7019\"]],AUTHORITY[\"EPSG\",\"6258\"]],PRIMEM[\"Greenwich\",0],UNIT[\"degree\",0.0174532925199433,AUTHORITY[\"EPSG\",\"9122\"]],AUTHORITY[\"EPSG\",\"4258\"]],PROJECTION[\"Lambert_Azimuthal_Equal_Area\"],PARAMETER[\"latitude_of_center\",52],PARAMETER[\"longitude_of_center\",10],PARAMETER[\"false_easting\",4321000],PARAMETER[\"false_northing\",3210000],UNIT[\"metre\",1],AXIS[\"Easting\",EAST],AXIS[\"Northing\",NORTH],AUTHORITY[\"EPSG\",\"3035\"]]\n"
     ]
    }
   ],
   "source": [
    "# Checking rasters crs\n",
    "print(flood_maps['floodMap_10'].crs)"
   ]
  },
  {
   "cell_type": "code",
   "execution_count": 22,
   "id": "c983ff1c-1772-4458-8864-6ea4d663334f",
   "metadata": {},
   "outputs": [
    {
     "data": {
      "text/plain": [
       "<Projected CRS: PROJCS[\"ETRS89-extended / LAEA Europe\",GEOGCS[\"ETR ...>\n",
       "Name: ETRS89-extended / LAEA Europe\n",
       "Axis Info [cartesian]:\n",
       "- [east]: Easting (metre)\n",
       "- [north]: Northing (metre)\n",
       "Area of Use:\n",
       "- undefined\n",
       "Coordinate Operation:\n",
       "- name: unnamed\n",
       "- method: Lambert Azimuthal Equal Area\n",
       "Datum: European Terrestrial Reference System 1989\n",
       "- Ellipsoid: GRS 1980\n",
       "- Prime Meridian: Greenwich"
      ]
     },
     "execution_count": 22,
     "metadata": {},
     "output_type": "execute_result"
    }
   ],
   "source": [
    "# Reprojecting lubuskie_data crs to EPSG:3035 to match rasters crs\n",
    "lubuskie_data = lubuskie_data.to_crs(crs=flood_maps['floodMap_10'].crs)\n",
    "lubuskie_data.crs"
   ]
  },
  {
   "cell_type": "code",
   "execution_count": 23,
   "id": "16b0815c-9092-489f-b5c9-c9954117596a",
   "metadata": {},
   "outputs": [
    {
     "data": {
      "text/plain": [
       "<Axes: >"
      ]
     },
     "execution_count": 23,
     "metadata": {},
     "output_type": "execute_result"
    },
    {
     "data": {
      "image/png": "[encoded data removed]",
      "text/plain": [
       "<Figure size 640x480 with 1 Axes>"
      ]
     },
     "metadata": {},
     "output_type": "display_data"
    }
   ],
   "source": [
    "# Extracting second level administrative areas (powiaty) that are a part of lubuskie voivodeship\n",
    "# As some of the powiats are having the same name within different voivodeships, GUS teritorial symbols are going to be used \n",
    "# to extract correct powiats within lubuskie voivodeship\n",
    "units_lubuskie = boundaries.loc[boundaries['JPT_KOD_JE'].str.contains(\n",
    "    \"0801|0802|0803|0804|0805|0806|0807|0808|0812|0809|0810|0811|0861|0862\",case=False)]\n",
    "\n",
    "# Checking the data \n",
    "units_lubuskie.plot()"
   ]
  },
  {
   "cell_type": "code",
   "execution_count": 25,
   "id": "3e08763e-109e-4b62-8045-b75ec6686680",
   "metadata": {},
   "outputs": [
    {
     "data": {
      "text/plain": [
       "<Projected CRS: PROJCS[\"ETRS89-extended / LAEA Europe\",GEOGCS[\"ETR ...>\n",
       "Name: ETRS89-extended / LAEA Europe\n",
       "Axis Info [cartesian]:\n",
       "- [east]: Easting (metre)\n",
       "- [north]: Northing (metre)\n",
       "Area of Use:\n",
       "- undefined\n",
       "Coordinate Operation:\n",
       "- name: unnamed\n",
       "- method: Lambert Azimuthal Equal Area\n",
       "Datum: European Terrestrial Reference System 1989\n",
       "- Ellipsoid: GRS 1980\n",
       "- Prime Meridian: Greenwich"
      ]
     },
     "execution_count": 25,
     "metadata": {},
     "output_type": "execute_result"
    }
   ],
   "source": [
    "# Changing crs to EPSG:3035\n",
    "units_lubuskie = units_lubuskie.to_crs(crs=lubuskie_data.crs)\n",
    "units_lubuskie.crs"
   ]
  },
  {
   "cell_type": "code",
   "execution_count": 26,
   "id": "aacdd406-98d2-497b-9fbb-38ddd37b50ca",
   "metadata": {},
   "outputs": [],
   "source": [
    "from rasterio.mask import mask\n",
    "from shapely.geometry import box, mapping\n",
    "\n",
    "# Clipping rasters to extend of lubuskie voivodeship\n",
    "# Creating polygon for lubuskie voivodeship + buffer (to include raster values on the borders of voivodeship)\n",
    "geoms = units_lubuskie.dissolve().buffer(1000).geometry.values\n",
    "geometry = geoms[0]\n",
    "mask_geojson = mapping(geometry)\n",
    "\n",
    "# Creating a dictionary to store clipped raster data\n",
    "clipped_maps = {}\n",
    "\n",
    "# Iterating over the return periods\n",
    "for period in return_periods:\n",
    "    with rasterio.open(flood_maps[f'floodMap_{period}'].name) as src:\n",
    "        out_image, out_transform = rasterio.mask.mask(src, [mask_geojson], crop=True)\n",
    "        out_meta = src.meta.copy()\n",
    "\n",
    "    out_meta.update({\n",
    "        \"driver\": 'GTiff',\n",
    "        'height': out_image.shape[1],\n",
    "        'width': out_image.shape[2],\n",
    "        'transform': out_transform\n",
    "    })\n",
    "\n",
    "    output_file_path = 'C://flood_analysis/floodMap_RP{:03d}/floodmap_EFAS_RP{:03d}_clip.tif'.format(period, period)\n",
    "\n",
    "    with rasterio.open(output_file_path, 'w', **out_meta) as dst:\n",
    "        dst.write(out_image)\n",
    "\n",
    "    # Adding the clipped raster data to the dictionary\n",
    "    clipped_maps[f'clipped_floodMap_{period}'] = output_file_path"
   ]
  },
  {
   "cell_type": "code",
   "execution_count": 27,
   "id": "9a5dfc34-9d20-466e-bba8-b202a20c339a",
   "metadata": {},
   "outputs": [],
   "source": [
    "from rasterio import sample\n",
    "\n",
    "# Extracting the raster value for each point for each return period raster using sample_gen() method\n",
    "\n",
    "# Determining the path to clipped rasters\n",
    "clipped_raster_path = 'C://flood_analysis/floodMap_RP{:03d}/floodmap_EFAS_RP{:03d}_clip.tif'\n",
    "\n",
    "# Iterating over each clipped raster\n",
    "for period in return_periods:\n",
    "    path = clipped_raster_path.format(period,period)\n",
    "    \n",
    "    # Adding new column to store raster values\n",
    "    lubuskie_data[f'flood{period}value'] = None\n",
    "    \n",
    "    # Iterating over address points \n",
    "    for index, row in lubuskie_data.iterrows():\n",
    "        # Extracting x and y values of each point\n",
    "        x = row['geometry'].x\n",
    "        y = row['geometry'].y\n",
    "        \n",
    "        # Extracting the value of the raster for the point\n",
    "        with rasterio.open(path) as src:\n",
    "            values_gen = sample.sample_gen(src, [(x,y)], indexes=1)\n",
    "            \n",
    "            # Adding extracted value to the new column\n",
    "            # for the uploaded rasters value = -340282306073709652508363335590014353408.0 is the placeholder that indicates\n",
    "            # there is NoData or undefined values, so this value will be considered as None\n",
    "            for value in values_gen:\n",
    "                lubuskie_data.loc[index, f'flood{period}value'] = None if value is None or value[0] == -340282306073709652508363335590014353408.0 else value[0]"
   ]
  },
  {
   "cell_type": "code",
   "execution_count": 28,
   "id": "73478aa5-6f76-4308-9455-0d57375b6403",
   "metadata": {},
   "outputs": [],
   "source": [
    "# Exporting the lubuskie_data to csv to store extracted values\n",
    "lubuskie_data.to_csv('C://flood_analysis/lubuskie_data_extracted_values.csv', encoding='UTF-8', index=False)"
   ]
  },
  {
   "cell_type": "code",
   "execution_count": 29,
   "id": "da96d72e-85eb-4032-9b75-3323783be67b",
   "metadata": {},
   "outputs": [],
   "source": [
    "# Adding new columns to determine if the flood value occured for each point\n",
    "for period in return_periods:\n",
    "    lubuskie_data[f'flood{period}value_occ'] = 0\n",
    "    \n",
    "    # If the value occured, new column will be filled with 1\n",
    "    for index, row in lubuskie_data.iterrows():\n",
    "        if row[f'flood{period}value'] is not None:\n",
    "            lubuskie_data.at[index, f'flood{period}value_occ'] = 1  "
   ]
  },
  {
   "cell_type": "code",
   "execution_count": 30,
   "id": "47501bc9-0bd2-4406-8e23-7e5d72142efb",
   "metadata": {},
   "outputs": [],
   "source": [
    "# Counting the number of locations in each administrativ area (powiat) that is affected by each return period\n",
    "# by creating a sum of the columns with occurance and group by name of powiat\n",
    "sum_flood_by_powiat = lubuskie_data.groupby('JPT_NAZWA_')[\n",
    "    ['flood10value_occ','flood20value_occ','flood50value_occ',\n",
    "    'flood100value_occ','flood200value_occ','flood500value_occ']\n",
    "].sum()"
   ]
  },
  {
   "cell_type": "code",
   "execution_count": 31,
   "id": "ccd4bd3c-0a35-4aa1-8785-3d4e34e91af0",
   "metadata": {},
   "outputs": [
    {
     "data": {
      "text/html": [
       "<div>\n",
       "<style scoped>\n",
       "    .dataframe tbody tr th:only-of-type {\n",
       "        vertical-align: middle;\n",
       "    }\n",
       "\n",
       "    .dataframe tbody tr th {\n",
       "        vertical-align: top;\n",
       "    }\n",
       "\n",
       "    .dataframe thead th {\n",
       "        text-align: right;\n",
       "    }\n",
       "</style>\n",
       "<table border=\"1\" class=\"dataframe\">\n",
       "  <thead>\n",
       "    <tr style=\"text-align: right;\">\n",
       "      <th></th>\n",
       "      <th>flood10value_occ</th>\n",
       "      <th>flood20value_occ</th>\n",
       "      <th>flood50value_occ</th>\n",
       "      <th>flood100value_occ</th>\n",
       "      <th>flood200value_occ</th>\n",
       "      <th>flood500value_occ</th>\n",
       "    </tr>\n",
       "    <tr>\n",
       "      <th>JPT_NAZWA_</th>\n",
       "      <th></th>\n",
       "      <th></th>\n",
       "      <th></th>\n",
       "      <th></th>\n",
       "      <th></th>\n",
       "      <th></th>\n",
       "    </tr>\n",
       "  </thead>\n",
       "  <tbody>\n",
       "    <tr>\n",
       "      <th>powiat Gorzów Wielkopolski</th>\n",
       "      <td>2074</td>\n",
       "      <td>2457</td>\n",
       "      <td>2551</td>\n",
       "      <td>2622</td>\n",
       "      <td>2648</td>\n",
       "      <td>2684</td>\n",
       "    </tr>\n",
       "    <tr>\n",
       "      <th>powiat Zielona Góra</th>\n",
       "      <td>146</td>\n",
       "      <td>225</td>\n",
       "      <td>225</td>\n",
       "      <td>293</td>\n",
       "      <td>293</td>\n",
       "      <td>293</td>\n",
       "    </tr>\n",
       "    <tr>\n",
       "      <th>powiat gorzowski</th>\n",
       "      <td>1922</td>\n",
       "      <td>2206</td>\n",
       "      <td>2451</td>\n",
       "      <td>2617</td>\n",
       "      <td>2674</td>\n",
       "      <td>2817</td>\n",
       "    </tr>\n",
       "    <tr>\n",
       "      <th>powiat krośnieński</th>\n",
       "      <td>836</td>\n",
       "      <td>921</td>\n",
       "      <td>1302</td>\n",
       "      <td>1390</td>\n",
       "      <td>1417</td>\n",
       "      <td>1573</td>\n",
       "    </tr>\n",
       "    <tr>\n",
       "      <th>powiat międzyrzecki</th>\n",
       "      <td>1287</td>\n",
       "      <td>1570</td>\n",
       "      <td>2313</td>\n",
       "      <td>2391</td>\n",
       "      <td>2584</td>\n",
       "      <td>3047</td>\n",
       "    </tr>\n",
       "    <tr>\n",
       "      <th>powiat nowosolski</th>\n",
       "      <td>6319</td>\n",
       "      <td>6845</td>\n",
       "      <td>7317</td>\n",
       "      <td>7636</td>\n",
       "      <td>7711</td>\n",
       "      <td>7788</td>\n",
       "    </tr>\n",
       "    <tr>\n",
       "      <th>powiat strzelecko-drezdenecki</th>\n",
       "      <td>708</td>\n",
       "      <td>879</td>\n",
       "      <td>944</td>\n",
       "      <td>1108</td>\n",
       "      <td>1130</td>\n",
       "      <td>1149</td>\n",
       "    </tr>\n",
       "    <tr>\n",
       "      <th>powiat sulęciński</th>\n",
       "      <td>368</td>\n",
       "      <td>436</td>\n",
       "      <td>483</td>\n",
       "      <td>586</td>\n",
       "      <td>627</td>\n",
       "      <td>639</td>\n",
       "    </tr>\n",
       "    <tr>\n",
       "      <th>powiat słubicki</th>\n",
       "      <td>1470</td>\n",
       "      <td>1678</td>\n",
       "      <td>1948</td>\n",
       "      <td>1982</td>\n",
       "      <td>2023</td>\n",
       "      <td>2107</td>\n",
       "    </tr>\n",
       "    <tr>\n",
       "      <th>powiat wschowski</th>\n",
       "      <td>5</td>\n",
       "      <td>11</td>\n",
       "      <td>18</td>\n",
       "      <td>24</td>\n",
       "      <td>27</td>\n",
       "      <td>55</td>\n",
       "    </tr>\n",
       "    <tr>\n",
       "      <th>powiat zielonogórski</th>\n",
       "      <td>1885</td>\n",
       "      <td>2110</td>\n",
       "      <td>2668</td>\n",
       "      <td>2858</td>\n",
       "      <td>2925</td>\n",
       "      <td>3092</td>\n",
       "    </tr>\n",
       "    <tr>\n",
       "      <th>powiat świebodziński</th>\n",
       "      <td>0</td>\n",
       "      <td>0</td>\n",
       "      <td>0</td>\n",
       "      <td>0</td>\n",
       "      <td>0</td>\n",
       "      <td>0</td>\n",
       "    </tr>\n",
       "    <tr>\n",
       "      <th>powiat żagański</th>\n",
       "      <td>2361</td>\n",
       "      <td>2549</td>\n",
       "      <td>2818</td>\n",
       "      <td>3055</td>\n",
       "      <td>3200</td>\n",
       "      <td>3408</td>\n",
       "    </tr>\n",
       "    <tr>\n",
       "      <th>powiat żarski</th>\n",
       "      <td>156</td>\n",
       "      <td>199</td>\n",
       "      <td>237</td>\n",
       "      <td>240</td>\n",
       "      <td>241</td>\n",
       "      <td>267</td>\n",
       "    </tr>\n",
       "  </tbody>\n",
       "</table>\n",
       "</div>"
      ],
      "text/plain": [
       "                               flood10value_occ  flood20value_occ   \n",
       "JPT_NAZWA_                                                          \n",
       "powiat Gorzów Wielkopolski                 2074              2457  \\\n",
       "powiat Zielona Góra                         146               225   \n",
       "powiat gorzowski                           1922              2206   \n",
       "powiat krośnieński                          836               921   \n",
       "powiat międzyrzecki                        1287              1570   \n",
       "powiat nowosolski                          6319              6845   \n",
       "powiat strzelecko-drezdenecki               708               879   \n",
       "powiat sulęciński                           368               436   \n",
       "powiat słubicki                            1470              1678   \n",
       "powiat wschowski                              5                11   \n",
       "powiat zielonogórski                       1885              2110   \n",
       "powiat świebodziński                          0                 0   \n",
       "powiat żagański                            2361              2549   \n",
       "powiat żarski                               156               199   \n",
       "\n",
       "                               flood50value_occ  flood100value_occ   \n",
       "JPT_NAZWA_                                                           \n",
       "powiat Gorzów Wielkopolski                 2551               2622  \\\n",
       "powiat Zielona Góra                         225                293   \n",
       "powiat gorzowski                           2451               2617   \n",
       "powiat krośnieński                         1302               1390   \n",
       "powiat międzyrzecki                        2313               2391   \n",
       "powiat nowosolski                          7317               7636   \n",
       "powiat strzelecko-drezdenecki               944               1108   \n",
       "powiat sulęciński                           483                586   \n",
       "powiat słubicki                            1948               1982   \n",
       "powiat wschowski                             18                 24   \n",
       "powiat zielonogórski                       2668               2858   \n",
       "powiat świebodziński                          0                  0   \n",
       "powiat żagański                            2818               3055   \n",
       "powiat żarski                               237                240   \n",
       "\n",
       "                               flood200value_occ  flood500value_occ  \n",
       "JPT_NAZWA_                                                           \n",
       "powiat Gorzów Wielkopolski                  2648               2684  \n",
       "powiat Zielona Góra                          293                293  \n",
       "powiat gorzowski                            2674               2817  \n",
       "powiat krośnieński                          1417               1573  \n",
       "powiat międzyrzecki                         2584               3047  \n",
       "powiat nowosolski                           7711               7788  \n",
       "powiat strzelecko-drezdenecki               1130               1149  \n",
       "powiat sulęciński                            627                639  \n",
       "powiat słubicki                             2023               2107  \n",
       "powiat wschowski                              27                 55  \n",
       "powiat zielonogórski                        2925               3092  \n",
       "powiat świebodziński                           0                  0  \n",
       "powiat żagański                             3200               3408  \n",
       "powiat żarski                                241                267  "
      ]
     },
     "execution_count": 31,
     "metadata": {},
     "output_type": "execute_result"
    }
   ],
   "source": [
    "# The final results\n",
    "sum_flood_by_powiat"
   ]
  },
  {
   "cell_type": "code",
   "execution_count": 32,
   "id": "8f693f0f-f8b3-4203-8841-95b36932b5a5",
   "metadata": {},
   "outputs": [
    {
     "data": {
      "text/plain": [
       "JPT_NAZWA_\n",
       "powiat Zielona Góra              20226\n",
       "powiat gorzowski                 19228\n",
       "powiat żarski                    18878\n",
       "powiat zielonogórski             17764\n",
       "powiat nowosolski                17289\n",
       "powiat żagański                  14017\n",
       "powiat krośnieński               12611\n",
       "powiat Gorzów Wielkopolski       12265\n",
       "powiat świebodziński             11345\n",
       "powiat międzyrzecki              11337\n",
       "powiat strzelecko-drezdenecki    10848\n",
       "powiat słubicki                  10107\n",
       "powiat wschowski                  9537\n",
       "powiat sulęciński                 8081\n",
       "Name: count, dtype: int64"
      ]
     },
     "execution_count": 32,
     "metadata": {},
     "output_type": "execute_result"
    }
   ],
   "source": [
    "# Checking the number of points within each powiat (for future statistics)\n",
    "locations_in_powiats = lubuskie_data['JPT_NAZWA_'].value_counts()\n",
    "locations_in_powiats"
   ]
  },
  {
   "cell_type": "code",
   "execution_count": 33,
   "id": "72584495-6486-4948-a301-faf2ffc74d68",
   "metadata": {},
   "outputs": [],
   "source": [
    "# Saving the results to csv file\n",
    "sum_flood_by_powiat.to_csv('C://flood_analysis/lubuskie_flood_powiats_results.csv', encoding='UTF-8')"
   ]
  },
  {
   "cell_type": "code",
   "execution_count": null,
   "id": "ca6fc51e-51b2-4892-8fa2-f65f0687be6a",
   "metadata": {},
   "outputs": [],
   "source": []
  }
 ],
 "metadata": {
  "kernelspec": {
   "display_name": "Python 3 (ipykernel)",
   "language": "python",
   "name": "python3"
  },
  "language_info": {
   "codemirror_mode": {
    "name": "ipython",
    "version": 3
   },
   "file_extension": ".py",
   "mimetype": "text/x-python",
   "name": "python",
   "nbconvert_exporter": "python",
   "pygments_lexer": "ipython3",
   "version": "3.10.10"
  }
 },
 "nbformat": 4,
 "nbformat_minor": 5
}
